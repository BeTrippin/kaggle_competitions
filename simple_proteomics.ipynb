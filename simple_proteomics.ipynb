{
 "cells": [
  {
   "cell_type": "markdown",
   "id": "34fd7396-fbf2-49e7-926f-3ba72cf55b21",
   "metadata": {},
   "source": [
    "# **Simple Preomics**\n"
   ]
  },
  {
   "cell_type": "markdown",
   "id": "dfbb93bb-6e73-4a87-980d-15e915101b53",
   "metadata": {},
   "source": [
    "## 1. Data Loading and Pre-processing"
   ]
  },
  {
   "cell_type": "markdown",
   "id": "8056e5e7-f990-4e9a-a749-5f16383037f4",
   "metadata": {},
   "source": [
    "### 1.1 Import libraries"
   ]
  },
  {
   "cell_type": "code",
   "execution_count": 1,
   "id": "11f9fe29-bc52-4f06-bde0-9c45680c307b",
   "metadata": {
    "scrolled": true
   },
   "outputs": [
    {
     "name": "stdout",
     "output_type": "stream",
     "text": [
      "Pandas version: 2.2.3\n",
      "matplotlib version: 3.10.1\n",
      "seaborn version: 0.13.2\n"
     ]
    }
   ],
   "source": [
    "# import libraries\n",
    "import numpy as np\n",
    "import pandas as pd\n",
    "import matplotlib\n",
    "import matplotlib.pyplot as plt\n",
    "import seaborn as sns\n",
    "from Bio import SeqIO\n",
    "import os\n",
    "\n",
    "\n",
    "\n",
    "# check versions of libraries used. \n",
    "print(\"Pandas version: {}\".format(pd.__version__))\n",
    "print(\"matplotlib version: {}\".format(matplotlib.__version__))\n",
    "print(\"seaborn version: {}\".format(sns.__version__))\n"
   ]
  },
  {
   "cell_type": "markdown",
   "id": "84079a1a-b057-4719-bc6f-5a7d245906ed",
   "metadata": {},
   "source": [
    "### 1.2 Import fasta data file and convert it to dataframe"
   ]
  },
  {
   "cell_type": "code",
   "execution_count": 2,
   "id": "95c8119c-c7b9-4ef0-9a81-f983e43d903d",
   "metadata": {},
   "outputs": [
    {
     "name": "stdout",
     "output_type": "stream",
     "text": [
      "Data loading done.\n"
     ]
    }
   ],
   "source": [
    "# Load fasta protein data. Using SeqIO we will parse the data and convert it into a dataframe.\n",
    "\n",
    "# setup empty lists to populate dataframe. \n",
    "seq = [] # Protein sequence \n",
    "seq_id = [] # patient/data/protein id?\n",
    "#seq_name = [] # protein name \n",
    "seq_description = [] # full description for fasta file\n",
    "seq_ProteinName = [] # protein Name\n",
    "\n",
    "\n",
    "# create pandas dataframe to make sorting and etc easier. First we will use SeqIO from Biopython library to parse fasta data. \n",
    "for seq_record in SeqIO.parse('uniprot_sprot_2021-01-04_HUMAN.fasta.txt','fasta'):\n",
    "    seq.append(str(seq_record.seq))\n",
    "    seq_id.append(str(seq_record.id).split('|')[1])\n",
    "    seq_description.append(str(seq_record.description))\n",
    "    seq_ProteinName.append(seq_record.name.split('|')[-1])\n",
    "\n",
    "dictseq = {'ProteinName':seq_ProteinName, 'id':seq_id, 'description':seq_description, 'sequence':seq}\n",
    "protein_data = pd.DataFrame(dictseq) # convert to dataframe\n",
    "\n",
    "# split description to remove names\n",
    "protein_data['description'] = protein_data['description'].str.split(' ', expand = True, n = 1)[1]\n",
    "\n",
    "\n",
    "print('Data loading done.')"
   ]
  },
  {
   "cell_type": "code",
   "execution_count": 3,
   "id": "91e7d4b2-93df-4fe8-85d8-6c0329611a64",
   "metadata": {
    "scrolled": true
   },
   "outputs": [
    {
     "data": {
      "text/plain": [
       "(20394, 4)"
      ]
     },
     "metadata": {},
     "output_type": "display_data"
    },
    {
     "data": {
      "text/html": [
       "<div>\n",
       "<style scoped>\n",
       "    .dataframe tbody tr th:only-of-type {\n",
       "        vertical-align: middle;\n",
       "    }\n",
       "\n",
       "    .dataframe tbody tr th {\n",
       "        vertical-align: top;\n",
       "    }\n",
       "\n",
       "    .dataframe thead th {\n",
       "        text-align: right;\n",
       "    }\n",
       "</style>\n",
       "<table border=\"1\" class=\"dataframe\">\n",
       "  <thead>\n",
       "    <tr style=\"text-align: right;\">\n",
       "      <th></th>\n",
       "      <th>ProteinName</th>\n",
       "      <th>id</th>\n",
       "      <th>description</th>\n",
       "      <th>sequence</th>\n",
       "    </tr>\n",
       "  </thead>\n",
       "  <tbody>\n",
       "    <tr>\n",
       "      <th>0</th>\n",
       "      <td>1433B_HUMAN</td>\n",
       "      <td>P31946</td>\n",
       "      <td>14-3-3 protein beta/alpha OS=Homo sapiens OX=9...</td>\n",
       "      <td>MTMDKSELVQKAKLAEQAERYDDMAAAMKAVTEQGHELSNEERNLL...</td>\n",
       "    </tr>\n",
       "    <tr>\n",
       "      <th>1</th>\n",
       "      <td>1433E_HUMAN</td>\n",
       "      <td>P62258</td>\n",
       "      <td>14-3-3 protein epsilon OS=Homo sapiens OX=9606...</td>\n",
       "      <td>MDDREDLVYQAKLAEQAERYDEMVESMKKVAGMDVELTVEERNLLS...</td>\n",
       "    </tr>\n",
       "    <tr>\n",
       "      <th>2</th>\n",
       "      <td>1433F_HUMAN</td>\n",
       "      <td>Q04917</td>\n",
       "      <td>14-3-3 protein eta OS=Homo sapiens OX=9606 GN=...</td>\n",
       "      <td>MGDREQLLQRARLAEQAERYDDMASAMKAVTELNEPLSNEDRNLLS...</td>\n",
       "    </tr>\n",
       "    <tr>\n",
       "      <th>3</th>\n",
       "      <td>1433G_HUMAN</td>\n",
       "      <td>P61981</td>\n",
       "      <td>14-3-3 protein gamma OS=Homo sapiens OX=9606 G...</td>\n",
       "      <td>MVDREQLVQKARLAEQAERYDDMAAAMKNVTELNEPLSNEERNLLS...</td>\n",
       "    </tr>\n",
       "    <tr>\n",
       "      <th>4</th>\n",
       "      <td>1433S_HUMAN</td>\n",
       "      <td>P31947</td>\n",
       "      <td>14-3-3 protein sigma OS=Homo sapiens OX=9606 G...</td>\n",
       "      <td>MERASLIQKAKLAEQAERYEDMAAFMKGAVEKGEELSCEERNLLSV...</td>\n",
       "    </tr>\n",
       "  </tbody>\n",
       "</table>\n",
       "</div>"
      ],
      "text/plain": [
       "   ProteinName      id                                        description  \\\n",
       "0  1433B_HUMAN  P31946  14-3-3 protein beta/alpha OS=Homo sapiens OX=9...   \n",
       "1  1433E_HUMAN  P62258  14-3-3 protein epsilon OS=Homo sapiens OX=9606...   \n",
       "2  1433F_HUMAN  Q04917  14-3-3 protein eta OS=Homo sapiens OX=9606 GN=...   \n",
       "3  1433G_HUMAN  P61981  14-3-3 protein gamma OS=Homo sapiens OX=9606 G...   \n",
       "4  1433S_HUMAN  P31947  14-3-3 protein sigma OS=Homo sapiens OX=9606 G...   \n",
       "\n",
       "                                            sequence  \n",
       "0  MTMDKSELVQKAKLAEQAERYDDMAAAMKAVTEQGHELSNEERNLL...  \n",
       "1  MDDREDLVYQAKLAEQAERYDEMVESMKKVAGMDVELTVEERNLLS...  \n",
       "2  MGDREQLLQRARLAEQAERYDDMASAMKAVTELNEPLSNEDRNLLS...  \n",
       "3  MVDREQLVQKARLAEQAERYDDMAAAMKNVTELNEPLSNEERNLLS...  \n",
       "4  MERASLIQKAKLAEQAERYEDMAAFMKGAVEKGEELSCEERNLLSV...  "
      ]
     },
     "execution_count": 3,
     "metadata": {},
     "output_type": "execute_result"
    }
   ],
   "source": [
    "display(protein_data.shape)\n",
    "protein_data.head()"
   ]
  },
  {
   "cell_type": "code",
   "execution_count": 4,
   "id": "bf7f0829-40c6-45af-aa2b-12bbe8df55d3",
   "metadata": {},
   "outputs": [
    {
     "data": {
      "text/html": [
       "<div>\n",
       "<style scoped>\n",
       "    .dataframe tbody tr th:only-of-type {\n",
       "        vertical-align: middle;\n",
       "    }\n",
       "\n",
       "    .dataframe tbody tr th {\n",
       "        vertical-align: top;\n",
       "    }\n",
       "\n",
       "    .dataframe thead th {\n",
       "        text-align: right;\n",
       "    }\n",
       "</style>\n",
       "<table border=\"1\" class=\"dataframe\">\n",
       "  <thead>\n",
       "    <tr style=\"text-align: right;\">\n",
       "      <th></th>\n",
       "      <th>ProteinName</th>\n",
       "      <th>id</th>\n",
       "      <th>description</th>\n",
       "      <th>sequence</th>\n",
       "      <th>OS</th>\n",
       "      <th>OX</th>\n",
       "      <th>GN</th>\n",
       "      <th>PE</th>\n",
       "      <th>SV</th>\n",
       "    </tr>\n",
       "  </thead>\n",
       "  <tbody>\n",
       "    <tr>\n",
       "      <th>0</th>\n",
       "      <td>1433B_HUMAN</td>\n",
       "      <td>P31946</td>\n",
       "      <td>14-3-3 protein beta/alpha OS=Homo sapiens OX=9...</td>\n",
       "      <td>MTMDKSELVQKAKLAEQAERYDDMAAAMKAVTEQGHELSNEERNLL...</td>\n",
       "      <td>Homo sapiens</td>\n",
       "      <td>9606</td>\n",
       "      <td>YWHAB</td>\n",
       "      <td>1</td>\n",
       "      <td>3</td>\n",
       "    </tr>\n",
       "    <tr>\n",
       "      <th>1</th>\n",
       "      <td>1433E_HUMAN</td>\n",
       "      <td>P62258</td>\n",
       "      <td>14-3-3 protein epsilon OS=Homo sapiens OX=9606...</td>\n",
       "      <td>MDDREDLVYQAKLAEQAERYDEMVESMKKVAGMDVELTVEERNLLS...</td>\n",
       "      <td>Homo sapiens</td>\n",
       "      <td>9606</td>\n",
       "      <td>YWHAE</td>\n",
       "      <td>1</td>\n",
       "      <td>1</td>\n",
       "    </tr>\n",
       "    <tr>\n",
       "      <th>2</th>\n",
       "      <td>1433F_HUMAN</td>\n",
       "      <td>Q04917</td>\n",
       "      <td>14-3-3 protein eta OS=Homo sapiens OX=9606 GN=...</td>\n",
       "      <td>MGDREQLLQRARLAEQAERYDDMASAMKAVTELNEPLSNEDRNLLS...</td>\n",
       "      <td>Homo sapiens</td>\n",
       "      <td>9606</td>\n",
       "      <td>YWHAH</td>\n",
       "      <td>1</td>\n",
       "      <td>4</td>\n",
       "    </tr>\n",
       "    <tr>\n",
       "      <th>3</th>\n",
       "      <td>1433G_HUMAN</td>\n",
       "      <td>P61981</td>\n",
       "      <td>14-3-3 protein gamma OS=Homo sapiens OX=9606 G...</td>\n",
       "      <td>MVDREQLVQKARLAEQAERYDDMAAAMKNVTELNEPLSNEERNLLS...</td>\n",
       "      <td>Homo sapiens</td>\n",
       "      <td>9606</td>\n",
       "      <td>YWHAG</td>\n",
       "      <td>1</td>\n",
       "      <td>2</td>\n",
       "    </tr>\n",
       "    <tr>\n",
       "      <th>4</th>\n",
       "      <td>1433S_HUMAN</td>\n",
       "      <td>P31947</td>\n",
       "      <td>14-3-3 protein sigma OS=Homo sapiens OX=9606 G...</td>\n",
       "      <td>MERASLIQKAKLAEQAERYEDMAAFMKGAVEKGEELSCEERNLLSV...</td>\n",
       "      <td>Homo sapiens</td>\n",
       "      <td>9606</td>\n",
       "      <td>SFN</td>\n",
       "      <td>1</td>\n",
       "      <td>1</td>\n",
       "    </tr>\n",
       "  </tbody>\n",
       "</table>\n",
       "</div>"
      ],
      "text/plain": [
       "   ProteinName      id                                        description  \\\n",
       "0  1433B_HUMAN  P31946  14-3-3 protein beta/alpha OS=Homo sapiens OX=9...   \n",
       "1  1433E_HUMAN  P62258  14-3-3 protein epsilon OS=Homo sapiens OX=9606...   \n",
       "2  1433F_HUMAN  Q04917  14-3-3 protein eta OS=Homo sapiens OX=9606 GN=...   \n",
       "3  1433G_HUMAN  P61981  14-3-3 protein gamma OS=Homo sapiens OX=9606 G...   \n",
       "4  1433S_HUMAN  P31947  14-3-3 protein sigma OS=Homo sapiens OX=9606 G...   \n",
       "\n",
       "                                            sequence            OS    OX  \\\n",
       "0  MTMDKSELVQKAKLAEQAERYDDMAAAMKAVTEQGHELSNEERNLL...  Homo sapiens  9606   \n",
       "1  MDDREDLVYQAKLAEQAERYDEMVESMKKVAGMDVELTVEERNLLS...  Homo sapiens  9606   \n",
       "2  MGDREQLLQRARLAEQAERYDDMASAMKAVTELNEPLSNEDRNLLS...  Homo sapiens  9606   \n",
       "3  MVDREQLVQKARLAEQAERYDDMAAAMKNVTELNEPLSNEERNLLS...  Homo sapiens  9606   \n",
       "4  MERASLIQKAKLAEQAERYEDMAAFMKGAVEKGEELSCEERNLLSV...  Homo sapiens  9606   \n",
       "\n",
       "      GN PE SV  \n",
       "0  YWHAB  1  3  \n",
       "1  YWHAE  1  1  \n",
       "2  YWHAH  1  4  \n",
       "3  YWHAG  1  2  \n",
       "4    SFN  1  1  "
      ]
     },
     "execution_count": 4,
     "metadata": {},
     "output_type": "execute_result"
    }
   ],
   "source": [
    "import re\n",
    "    \n",
    "def parse_protein_info(text):\n",
    "    \"\"\"Parse protein information string into a dictionary\"\"\"\n",
    "    fields = {}\n",
    "    \n",
    "    # Define patterns for each field\n",
    "    patterns = {\n",
    "        # Match everything after OS= until the next field marker (space + 2 uppercase letters + =) or end of string\n",
    "        'OS': r'OS=(.+?)(?=\\s+[A-Z]{2}=|\\s*$)',\n",
    "        # Match digits after OX=\n",
    "        'OX': r'OX=(\\d+)',\n",
    "        # Match everything after GN= until the next field marker or end of string\n",
    "        'GN': r'GN=(.+?)(?=\\s+[A-Z]{2}=|\\s*$)',\n",
    "        # Match digits after PE=\n",
    "        'PE': r'PE=(\\d+)',\n",
    "        # Match digits after SV=\n",
    "        'SV': r'SV=(\\d+)'\n",
    "    }\n",
    "    for field, pattern in patterns.items():\n",
    "        match = re.search(pattern, text)\n",
    "        fields[field] = match.group(1).strip() if match else None\n",
    "    \n",
    "    return fields\n",
    "\n",
    "# Apply the parsing function to the 'description' column\n",
    "parsed_data = protein_data['description'].apply(parse_protein_info)\n",
    "parsed_df = pd.DataFrame(parsed_data.tolist())\n",
    "\n",
    "\n",
    "protein_data = protein_data.join(parsed_df)\n",
    "protein_data.head()"
   ]
  },
  {
   "cell_type": "code",
   "execution_count": 5,
   "id": "2bf0509c-aefd-447c-8209-3fe896c3696a",
   "metadata": {},
   "outputs": [
    {
     "data": {
      "text/plain": [
       "(20394, 5)"
      ]
     },
     "metadata": {},
     "output_type": "display_data"
    },
    {
     "data": {
      "text/plain": [
       "(20394, 9)"
      ]
     },
     "metadata": {},
     "output_type": "display_data"
    }
   ],
   "source": [
    "display(parsed_df.shape)\n",
    "display(protein_data.shape)"
   ]
  },
  {
   "cell_type": "code",
   "execution_count": 6,
   "id": "37d9708f-2627-435b-a49a-8d5c842525aa",
   "metadata": {},
   "outputs": [
    {
     "data": {
      "text/html": [
       "<div>\n",
       "<style scoped>\n",
       "    .dataframe tbody tr th:only-of-type {\n",
       "        vertical-align: middle;\n",
       "    }\n",
       "\n",
       "    .dataframe tbody tr th {\n",
       "        vertical-align: top;\n",
       "    }\n",
       "\n",
       "    .dataframe thead th {\n",
       "        text-align: right;\n",
       "    }\n",
       "</style>\n",
       "<table border=\"1\" class=\"dataframe\">\n",
       "  <thead>\n",
       "    <tr style=\"text-align: right;\">\n",
       "      <th></th>\n",
       "      <th>ProteinName</th>\n",
       "      <th>id</th>\n",
       "      <th>description</th>\n",
       "      <th>sequence</th>\n",
       "      <th>OS</th>\n",
       "      <th>OX</th>\n",
       "      <th>GN</th>\n",
       "      <th>PE</th>\n",
       "      <th>SV</th>\n",
       "    </tr>\n",
       "  </thead>\n",
       "  <tbody>\n",
       "    <tr>\n",
       "      <th>count</th>\n",
       "      <td>20394</td>\n",
       "      <td>20394</td>\n",
       "      <td>20394</td>\n",
       "      <td>20394</td>\n",
       "      <td>20394</td>\n",
       "      <td>20394</td>\n",
       "      <td>20252</td>\n",
       "      <td>20394</td>\n",
       "      <td>20394</td>\n",
       "    </tr>\n",
       "    <tr>\n",
       "      <th>unique</th>\n",
       "      <td>20394</td>\n",
       "      <td>20394</td>\n",
       "      <td>20394</td>\n",
       "      <td>20323</td>\n",
       "      <td>1</td>\n",
       "      <td>1</td>\n",
       "      <td>20172</td>\n",
       "      <td>5</td>\n",
       "      <td>9</td>\n",
       "    </tr>\n",
       "    <tr>\n",
       "      <th>top</th>\n",
       "      <td>ZZZ3_HUMAN</td>\n",
       "      <td>Q8IYH5</td>\n",
       "      <td>ZZ-type zinc finger-containing protein 3 OS=Ho...</td>\n",
       "      <td>MALPTPSDSTLPAEARGRGRRRRLVWTPSQSEALRACFERNPYPGI...</td>\n",
       "      <td>Homo sapiens</td>\n",
       "      <td>9606</td>\n",
       "      <td>HERVK_113</td>\n",
       "      <td>1</td>\n",
       "      <td>1</td>\n",
       "    </tr>\n",
       "    <tr>\n",
       "      <th>freq</th>\n",
       "      <td>1</td>\n",
       "      <td>1</td>\n",
       "      <td>1</td>\n",
       "      <td>5</td>\n",
       "      <td>20394</td>\n",
       "      <td>20394</td>\n",
       "      <td>5</td>\n",
       "      <td>16373</td>\n",
       "      <td>9426</td>\n",
       "    </tr>\n",
       "  </tbody>\n",
       "</table>\n",
       "</div>"
      ],
      "text/plain": [
       "       ProteinName      id                                        description  \\\n",
       "count        20394   20394                                              20394   \n",
       "unique       20394   20394                                              20394   \n",
       "top     ZZZ3_HUMAN  Q8IYH5  ZZ-type zinc finger-containing protein 3 OS=Ho...   \n",
       "freq             1       1                                                  1   \n",
       "\n",
       "                                                 sequence            OS  \\\n",
       "count                                               20394         20394   \n",
       "unique                                              20323             1   \n",
       "top     MALPTPSDSTLPAEARGRGRRRRLVWTPSQSEALRACFERNPYPGI...  Homo sapiens   \n",
       "freq                                                    5         20394   \n",
       "\n",
       "           OX         GN     PE     SV  \n",
       "count   20394      20252  20394  20394  \n",
       "unique      1      20172      5      9  \n",
       "top      9606  HERVK_113      1      1  \n",
       "freq    20394          5  16373   9426  "
      ]
     },
     "execution_count": 6,
     "metadata": {},
     "output_type": "execute_result"
    }
   ],
   "source": [
    "protein_data.describe()"
   ]
  },
  {
   "cell_type": "code",
   "execution_count": 7,
   "id": "db597c83-13ea-4e52-9436-d9ce45888d46",
   "metadata": {
    "scrolled": true
   },
   "outputs": [
    {
     "name": "stdout",
     "output_type": "stream",
     "text": [
      "<class 'pandas.core.frame.DataFrame'>\n",
      "RangeIndex: 20394 entries, 0 to 20393\n",
      "Data columns (total 9 columns):\n",
      " #   Column       Non-Null Count  Dtype \n",
      "---  ------       --------------  ----- \n",
      " 0   ProteinName  20394 non-null  object\n",
      " 1   id           20394 non-null  object\n",
      " 2   description  20394 non-null  object\n",
      " 3   sequence     20394 non-null  object\n",
      " 4   OS           20394 non-null  object\n",
      " 5   OX           20394 non-null  object\n",
      " 6   GN           20252 non-null  object\n",
      " 7   PE           20394 non-null  object\n",
      " 8   SV           20394 non-null  object\n",
      "dtypes: object(9)\n",
      "memory usage: 1.4+ MB\n"
     ]
    }
   ],
   "source": [
    "protein_data.info()"
   ]
  },
  {
   "cell_type": "markdown",
   "id": "c497887f-3f71-4a1d-bf98-ef03f63446a0",
   "metadata": {},
   "source": [
    "#### Fasta Data File\n",
    "The fasta data file was parsed through using SeqIO function from Biopython package. The raw data consists of multiple lines starting wtih '>SV'. This data was parsed and converted into a dataframe with columns consisting ID, description, and protein sequence. Description fasta headers also separated into different columns: OS=OrganismName, OX=Organism Identifier, GN=GeneName, PE=ProteinExistence, SV=SequenceVersion. After preprocessing, following can be observed: \n",
    "* There are 20394 entries in this data. \n",
    "* Protein Name, id, and protein sequence does not have any missing values.\n",
    "* All protein names are unique but not all protein sequences are unique.\n",
    "* 71 entries does not have unique protein sequences (0.003%) and \"MALPTPSDSTLPAEARGRGRRRRLVWTPSQSEALRACFERNPYPGI....\" sequence has frequency 5 in the data.\n",
    "* All known data entries are from Homo sapiens\n",
    "* There are 142 GN values missing from original data. \n"
   ]
  },
  {
   "cell_type": "markdown",
   "id": "0ac7bc06-e943-4c7b-a63e-904b71a938c1",
   "metadata": {},
   "source": [
    "### 1.3 Import tools A & B\n"
   ]
  },
  {
   "cell_type": "code",
   "execution_count": 8,
   "id": "f5b14bef-b688-4a25-8e5c-295e8da8641e",
   "metadata": {},
   "outputs": [],
   "source": [
    "# import tools A & B .tsv file\n",
    "tool_A = pd.read_csv('tool_A_results.tsv',sep = '\\t',index_col=0)\n",
    "tool_B = pd.read_csv('tool_B_results.tsv', sep = '\\t')"
   ]
  },
  {
   "cell_type": "code",
   "execution_count": 9,
   "id": "34b9a299-b0bd-42a3-b168-6559fb1f0d94",
   "metadata": {},
   "outputs": [
    {
     "name": "stdout",
     "output_type": "stream",
     "text": [
      "tool_A original shape = (91419, 2)\n",
      "tool_A after shape = (92415, 2)\n"
     ]
    }
   ],
   "source": [
    "''' some tool A inputs have multiple entries e.g. H2B1K_HUMAN;H2BFS_HUMAN;H2B1D_HUMAN so we need to break these apart. \n",
    "also \"StrippedSequence\" == Peptide Sequence so need to rename'''\n",
    "print(f'tool_A original shape =' ,tool_A.shape)\n",
    "\n",
    "# splitting multiple entries and we adding them back in as separate entry. \n",
    "tool_A['ProteinName'] = tool_A['ProteinName'].str.split(';')\n",
    "tool_A = tool_A.explode('ProteinName')\n",
    "print(f'tool_A after shape =' ,tool_A.shape)\n",
    "tool_A = tool_A.rename(columns = {'StrippedSequence': 'Peptide_Seq'})\n"
   ]
  },
  {
   "cell_type": "code",
   "execution_count": 10,
   "id": "8317b248-21f6-44f5-af80-bd4c35ab0d6f",
   "metadata": {},
   "outputs": [
    {
     "name": "stdout",
     "output_type": "stream",
     "text": [
      "tool_B shape = (82732, 3)\n"
     ]
    }
   ],
   "source": [
    "# tool_B protein name needs to be split to be consistent with other data\n",
    "split_tool_B_name = tool_B.ProteinName.str.split(\"|\", expand = True) # spliting based on |\n",
    "tool_B[\"ProteinName\"] = split_tool_B_name[2] # same protein name convention as input data and tool_A. \n",
    "tool_B[\"id\"] = split_tool_B_name[1] # same id name convention as input data. \n",
    "tool_B = tool_B.rename(columns = {'Sequence': 'Peptide_Seq'})\n",
    "print(f'tool_B shape =' ,tool_B.shape)\n"
   ]
  },
  {
   "cell_type": "code",
   "execution_count": 11,
   "id": "4c46957e-dae2-4d3e-b573-86fb624d089f",
   "metadata": {},
   "outputs": [
    {
     "data": {
      "text/html": [
       "<div>\n",
       "<style scoped>\n",
       "    .dataframe tbody tr th:only-of-type {\n",
       "        vertical-align: middle;\n",
       "    }\n",
       "\n",
       "    .dataframe tbody tr th {\n",
       "        vertical-align: top;\n",
       "    }\n",
       "\n",
       "    .dataframe thead th {\n",
       "        text-align: right;\n",
       "    }\n",
       "</style>\n",
       "<table border=\"1\" class=\"dataframe\">\n",
       "  <thead>\n",
       "    <tr style=\"text-align: right;\">\n",
       "      <th></th>\n",
       "      <th>ProteinName</th>\n",
       "      <th>Peptide_Seq</th>\n",
       "    </tr>\n",
       "    <tr>\n",
       "      <th>index</th>\n",
       "      <th></th>\n",
       "      <th></th>\n",
       "    </tr>\n",
       "  </thead>\n",
       "  <tbody>\n",
       "    <tr>\n",
       "      <th>0</th>\n",
       "      <td>SRC8_HUMAN</td>\n",
       "      <td>PVEAVTSK</td>\n",
       "    </tr>\n",
       "    <tr>\n",
       "      <th>1</th>\n",
       "      <td>APT_HUMAN</td>\n",
       "      <td>LQAEVLECVSLVELTSLK</td>\n",
       "    </tr>\n",
       "    <tr>\n",
       "      <th>2</th>\n",
       "      <td>TRXR1_HUMAN</td>\n",
       "      <td>VVYENAYGQFIGPHR</td>\n",
       "    </tr>\n",
       "    <tr>\n",
       "      <th>4</th>\n",
       "      <td>GALD1_HUMAN</td>\n",
       "      <td>AMEFVDVTESNAR</td>\n",
       "    </tr>\n",
       "    <tr>\n",
       "      <th>5</th>\n",
       "      <td>TRADD_HUMAN</td>\n",
       "      <td>VVLSDAYAHPQQK</td>\n",
       "    </tr>\n",
       "  </tbody>\n",
       "</table>\n",
       "</div>"
      ],
      "text/plain": [
       "       ProteinName         Peptide_Seq\n",
       "index                                 \n",
       "0       SRC8_HUMAN            PVEAVTSK\n",
       "1        APT_HUMAN  LQAEVLECVSLVELTSLK\n",
       "2      TRXR1_HUMAN     VVYENAYGQFIGPHR\n",
       "4      GALD1_HUMAN       AMEFVDVTESNAR\n",
       "5      TRADD_HUMAN       VVLSDAYAHPQQK"
      ]
     },
     "metadata": {},
     "output_type": "display_data"
    },
    {
     "data": {
      "text/html": [
       "<div>\n",
       "<style scoped>\n",
       "    .dataframe tbody tr th:only-of-type {\n",
       "        vertical-align: middle;\n",
       "    }\n",
       "\n",
       "    .dataframe tbody tr th {\n",
       "        vertical-align: top;\n",
       "    }\n",
       "\n",
       "    .dataframe thead th {\n",
       "        text-align: right;\n",
       "    }\n",
       "</style>\n",
       "<table border=\"1\" class=\"dataframe\">\n",
       "  <thead>\n",
       "    <tr style=\"text-align: right;\">\n",
       "      <th></th>\n",
       "      <th>ProteinName</th>\n",
       "      <th>Peptide_Seq</th>\n",
       "    </tr>\n",
       "  </thead>\n",
       "  <tbody>\n",
       "    <tr>\n",
       "      <th>count</th>\n",
       "      <td>92415</td>\n",
       "      <td>92415</td>\n",
       "    </tr>\n",
       "    <tr>\n",
       "      <th>unique</th>\n",
       "      <td>4984</td>\n",
       "      <td>53158</td>\n",
       "    </tr>\n",
       "    <tr>\n",
       "      <th>top</th>\n",
       "      <td>AHNK_HUMAN</td>\n",
       "      <td>HQGVMVGMGQK</td>\n",
       "    </tr>\n",
       "    <tr>\n",
       "      <th>freq</th>\n",
       "      <td>879</td>\n",
       "      <td>30</td>\n",
       "    </tr>\n",
       "  </tbody>\n",
       "</table>\n",
       "</div>"
      ],
      "text/plain": [
       "       ProteinName  Peptide_Seq\n",
       "count        92415        92415\n",
       "unique        4984        53158\n",
       "top     AHNK_HUMAN  HQGVMVGMGQK\n",
       "freq           879           30"
      ]
     },
     "metadata": {},
     "output_type": "display_data"
    },
    {
     "data": {
      "text/html": [
       "<div>\n",
       "<style scoped>\n",
       "    .dataframe tbody tr th:only-of-type {\n",
       "        vertical-align: middle;\n",
       "    }\n",
       "\n",
       "    .dataframe tbody tr th {\n",
       "        vertical-align: top;\n",
       "    }\n",
       "\n",
       "    .dataframe thead th {\n",
       "        text-align: right;\n",
       "    }\n",
       "</style>\n",
       "<table border=\"1\" class=\"dataframe\">\n",
       "  <thead>\n",
       "    <tr style=\"text-align: right;\">\n",
       "      <th></th>\n",
       "      <th>ProteinName</th>\n",
       "      <th>Peptide_Seq</th>\n",
       "      <th>id</th>\n",
       "    </tr>\n",
       "  </thead>\n",
       "  <tbody>\n",
       "    <tr>\n",
       "      <th>0</th>\n",
       "      <td>1433E_HUMAN</td>\n",
       "      <td>MDDREDLVYQAK</td>\n",
       "      <td>P62258</td>\n",
       "    </tr>\n",
       "    <tr>\n",
       "      <th>1</th>\n",
       "      <td>1433E_HUMAN</td>\n",
       "      <td>MDDREDLVYQAK</td>\n",
       "      <td>P62258</td>\n",
       "    </tr>\n",
       "    <tr>\n",
       "      <th>2</th>\n",
       "      <td>1433E_HUMAN</td>\n",
       "      <td>MDDREDLVYQAK</td>\n",
       "      <td>P62258</td>\n",
       "    </tr>\n",
       "    <tr>\n",
       "      <th>3</th>\n",
       "      <td>1433E_HUMAN</td>\n",
       "      <td>MDDREDLVYQAK</td>\n",
       "      <td>P62258</td>\n",
       "    </tr>\n",
       "    <tr>\n",
       "      <th>4</th>\n",
       "      <td>1433E_HUMAN</td>\n",
       "      <td>MDDREDLVYQAK</td>\n",
       "      <td>P62258</td>\n",
       "    </tr>\n",
       "  </tbody>\n",
       "</table>\n",
       "</div>"
      ],
      "text/plain": [
       "   ProteinName   Peptide_Seq      id\n",
       "0  1433E_HUMAN  MDDREDLVYQAK  P62258\n",
       "1  1433E_HUMAN  MDDREDLVYQAK  P62258\n",
       "2  1433E_HUMAN  MDDREDLVYQAK  P62258\n",
       "3  1433E_HUMAN  MDDREDLVYQAK  P62258\n",
       "4  1433E_HUMAN  MDDREDLVYQAK  P62258"
      ]
     },
     "metadata": {},
     "output_type": "display_data"
    },
    {
     "data": {
      "text/html": [
       "<div>\n",
       "<style scoped>\n",
       "    .dataframe tbody tr th:only-of-type {\n",
       "        vertical-align: middle;\n",
       "    }\n",
       "\n",
       "    .dataframe tbody tr th {\n",
       "        vertical-align: top;\n",
       "    }\n",
       "\n",
       "    .dataframe thead th {\n",
       "        text-align: right;\n",
       "    }\n",
       "</style>\n",
       "<table border=\"1\" class=\"dataframe\">\n",
       "  <thead>\n",
       "    <tr style=\"text-align: right;\">\n",
       "      <th></th>\n",
       "      <th>ProteinName</th>\n",
       "      <th>Peptide_Seq</th>\n",
       "      <th>id</th>\n",
       "    </tr>\n",
       "  </thead>\n",
       "  <tbody>\n",
       "    <tr>\n",
       "      <th>count</th>\n",
       "      <td>82732</td>\n",
       "      <td>82732</td>\n",
       "      <td>82732</td>\n",
       "    </tr>\n",
       "    <tr>\n",
       "      <th>unique</th>\n",
       "      <td>2497</td>\n",
       "      <td>16395</td>\n",
       "      <td>2497</td>\n",
       "    </tr>\n",
       "    <tr>\n",
       "      <th>top</th>\n",
       "      <td>FLNA_HUMAN</td>\n",
       "      <td>LMIEMDGTENK</td>\n",
       "      <td>P21333</td>\n",
       "    </tr>\n",
       "    <tr>\n",
       "      <th>freq</th>\n",
       "      <td>1303</td>\n",
       "      <td>82</td>\n",
       "      <td>1303</td>\n",
       "    </tr>\n",
       "  </tbody>\n",
       "</table>\n",
       "</div>"
      ],
      "text/plain": [
       "       ProteinName  Peptide_Seq      id\n",
       "count        82732        82732   82732\n",
       "unique        2497        16395    2497\n",
       "top     FLNA_HUMAN  LMIEMDGTENK  P21333\n",
       "freq          1303           82    1303"
      ]
     },
     "metadata": {},
     "output_type": "display_data"
    }
   ],
   "source": [
    "display(tool_A.head())\n",
    "display(tool_A.describe(include =['O']))\n",
    "display(tool_B.head())\n",
    "display(tool_B.describe(include =['O']))"
   ]
  },
  {
   "cell_type": "markdown",
   "id": "4247a7d4-d7fc-4960-a329-948070484c1b",
   "metadata": {},
   "source": [
    "## 2. Observation"
   ]
  },
  {
   "cell_type": "markdown",
   "id": "a6b6691f-398e-46f6-82df-6cdd43a2d9c8",
   "metadata": {},
   "source": [
    "### 2.1 Find number of Unique **Peptides** in Tool A and Tool B"
   ]
  },
  {
   "cell_type": "code",
   "execution_count": 12,
   "id": "5351979b-89cb-435e-826a-9fc43982ee94",
   "metadata": {},
   "outputs": [
    {
     "name": "stdout",
     "output_type": "stream",
     "text": [
      "TOOL-A found 53158 unique peptides sequences\n",
      "TOOL-B found 16395 unique peptides sequences\n"
     ]
    }
   ],
   "source": [
    "unique_peptide_A = tool_A['Peptide_Seq'].nunique()\n",
    "unique_peptide_B = tool_B['Peptide_Seq'].nunique()\n",
    "\n",
    "print(f\"TOOL-A found {unique_peptide_A} unique peptides sequences\")\n",
    "print(f\"TOOL-B found {unique_peptide_B} unique peptides sequences\")"
   ]
  },
  {
   "cell_type": "code",
   "execution_count": 13,
   "id": "6bcd7a50-238c-4a2b-8578-83309b212811",
   "metadata": {},
   "outputs": [
    {
     "name": "stderr",
     "output_type": "stream",
     "text": [
      "C:\\Users\\kk_71\\AppData\\Local\\Temp\\ipykernel_21836\\809819754.py:3: FutureWarning: \n",
      "\n",
      "Passing `palette` without assigning `hue` is deprecated and will be removed in v0.14.0. Assign the `x` variable to `hue` and set `legend=False` for the same effect.\n",
      "\n",
      "  sns.barplot(x=['TOOL-A', 'TOOL-B'], y=[unique_peptide_A, unique_peptide_B], palette='viridis')\n"
     ]
    },
    {
     "data": {
      "image/png": "[encoded data removed]",
      "text/plain": [
       "<Figure size 1000x600 with 1 Axes>"
      ]
     },
     "metadata": {},
     "output_type": "display_data"
    }
   ],
   "source": [
    "# Visualize the comparison\n",
    "plt.figure(figsize=(10, 6))\n",
    "sns.barplot(x=['TOOL-A', 'TOOL-B'], y=[unique_peptide_A, unique_peptide_B], palette='viridis')\n",
    "plt.title('Number of Unique Peptides Found by Each Tool', fontsize=16)\n",
    "plt.ylabel('Count', fontsize=14)\n",
    "plt.xlabel('Tool', fontsize=14)\n",
    "plt.grid(axis='y', linestyle='--', alpha=0.7)\n",
    "plt.tight_layout()\n",
    "plt.show()"
   ]
  },
  {
   "cell_type": "code",
   "execution_count": 14,
   "id": "31fc8c73-b983-4c34-9f56-5542df6eaca7",
   "metadata": {
    "scrolled": true
   },
   "outputs": [
    {
     "name": "stdout",
     "output_type": "stream",
     "text": [
      "TOOL-A found 4984 unique proteins names\n",
      "TOOL-B found 2497 unique proteins names\n"
     ]
    },
    {
     "name": "stderr",
     "output_type": "stream",
     "text": [
      "C:\\Users\\kk_71\\AppData\\Local\\Temp\\ipykernel_21836\\1557883408.py:10: FutureWarning: \n",
      "\n",
      "Passing `palette` without assigning `hue` is deprecated and will be removed in v0.14.0. Assign the `x` variable to `hue` and set `legend=False` for the same effect.\n",
      "\n",
      "  sns.barplot(x=['TOOL-A', 'TOOL-B'], y=[unique_proteins_name_A, unique_proteins_name_B], palette='viridis')\n"
     ]
    },
    {
     "data": {
      "image/png": "[encoded data removed]",
      "text/plain": [
       "<Figure size 1000x600 with 1 Axes>"
      ]
     },
     "metadata": {},
     "output_type": "display_data"
    }
   ],
   "source": [
    "# Count unique proteins for each tool\n",
    "unique_proteins_name_A = tool_A['ProteinName'].nunique()\n",
    "unique_proteins_name_B = tool_B['ProteinName'].nunique()\n",
    "\n",
    "print(f\"TOOL-A found {unique_proteins_name_A} unique proteins names\")\n",
    "print(f\"TOOL-B found {unique_proteins_name_B} unique proteins names\")\n",
    "\n",
    "# Visualize the comparison\n",
    "plt.figure(figsize=(10, 6))\n",
    "sns.barplot(x=['TOOL-A', 'TOOL-B'], y=[unique_proteins_name_A, unique_proteins_name_B], palette='viridis')\n",
    "plt.title('Number of Unique Proteins Found by Each Tool', fontsize=16)\n",
    "plt.ylabel('Count', fontsize=14)\n",
    "plt.xlabel('Tool', fontsize=14)\n",
    "plt.grid(axis='y', linestyle='--', alpha=0.7)\n",
    "#plt.tight_layout()\n",
    "plt.show()"
   ]
  },
  {
   "cell_type": "code",
   "execution_count": 17,
   "id": "2dfa0b38-0435-4b31-827b-67099c985816",
   "metadata": {},
   "outputs": [
    {
     "data": {
      "text/plain": [
       "ProteinName\n",
       "AHNK_HUMAN     879\n",
       "FLNA_HUMAN     729\n",
       "FAS_HUMAN      560\n",
       "DYHC1_HUMAN    460\n",
       "               393\n",
       "              ... \n",
       "B2L12_HUMAN      1\n",
       "ZMIZ2_HUMAN      1\n",
       "RHG39_HUMAN      1\n",
       "AT10B_HUMAN      1\n",
       "MED10_HUMAN      1\n",
       "Name: count, Length: 4984, dtype: int64"
      ]
     },
     "metadata": {},
     "output_type": "display_data"
    }
   ],
   "source": [
    "tool_A_protein_name_counts  = tool_A.ProteinName.value_counts()\n",
    "tool_A_peptide_counts = tool_A.Peptide_Seq.value_counts()\n",
    "tool_B_protein_name_counts  = tool_B.ProteinName.value_counts()\n",
    "tool_B_peptide_counts = tool_B.Peptide_Seq.value_counts()\n",
    "\n",
    "display(tool_A_protein_name_counts)"
   ]
  },
  {
   "cell_type": "code",
   "execution_count": 20,
   "id": "3253ab95-5e33-492e-95c2-d289ea32f81f",
   "metadata": {},
   "outputs": [
    {
     "data": {
      "text/plain": [
       "<seaborn.axisgrid.FacetGrid at 0x1eb8a46b920>"
      ]
     },
     "execution_count": 20,
     "metadata": {},
     "output_type": "execute_result"
    },
    {
     "data": {
      "image/png": "[encoded data removed]",
      "text/plain": [
       "<Figure size 500x500 with 1 Axes>"
      ]
     },
     "metadata": {},
     "output_type": "display_data"
    }
   ],
   "source": [
    "sns.displot(tool_A_protein_name_counts).set(xlim=(1,100))"
   ]
  },
  {
   "cell_type": "markdown",
   "id": "e4a48109-a6a6-4a68-94be-d1842e0c47d2",
   "metadata": {},
   "source": [
    "#### Tools A and B File\n",
    "Tools A and B both have peptide sequence and protein name identifiers but are in different format. Therefore these data were processed to have same dataframe convention for easier use. \n",
    "##### **Tool A**\n",
    "* original data had 91419 entries but some had multiple entries in single line. Therefore final count was: 92415 entries.\n",
    "* There are a lot of repeated entries in this tool. 4984/92415 (5.39%) names are unique and 53158/92415 (57.52%) peptide sequences are unique.\n",
    "* highest occurrence of repeated peptide name was: AHNK_HUMAN with occurence of 879\n",
    "* highest occurrence of repeated peptide sequence was: HQGVMVGMGQK with occurence of 30\n",
    "\n",
    "##### **Tool B**\n",
    "* Tool B had total of 82732 data.\n",
    "* 2497/82732 (3.01%) are unique names and 16395/82732 (19.82%) are unique peptide sequences.\n",
    "* highest occurrence of repeated peptide name was: FLNA_HUMAN with occurence of 1303\n",
    "* highest occurrence of repeated peptide sequence was: LMIEMDGTENK with occurence of 82\n",
    "\n",
    "##### Comparison\n",
    "* Tool A has more number of entries than Tool B\n",
    "* Tool A has more unique protein names and peptide sequence"
   ]
  },
  {
   "cell_type": "markdown",
   "id": "f1a827d2-e474-4d20-832d-61f8298d64ab",
   "metadata": {},
   "source": [
    "## 3. Processing"
   ]
  },
  {
   "cell_type": "markdown",
   "id": "9bca2b1a-c0c2-4747-b5c6-2646dfee2d06",
   "metadata": {},
   "source": [
    "### 3.1. Simplified Semi Tryptic"
   ]
  },
  {
   "cell_type": "code",
   "execution_count": 97,
   "id": "11c499a9-76bd-4950-b6ab-1c9a075ef180",
   "metadata": {},
   "outputs": [],
   "source": [
    "def is_simplified_semi_tryptic(peptide_seq, protein_seq):\n",
    "    \"\"\"Determine if a peptide is Simplified-Semi-Tryptic.\"\"\"\n",
    "    if peptide_seq not in protein_seq:\n",
    "        return False\n",
    "    \n",
    "    # Find the first occurrence of the peptide in the protein sequence\n",
    "    start_idx = protein_seq.find(peptide_seq)\n",
    "    \n",
    "    # Check if peptide is at the start of the protein sequence\n",
    "    if start_idx == 0:\n",
    "        # Consider as if preceding amino acid ends with K or R\n",
    "        preceding_ends_with_kr = True\n",
    "    else:\n",
    "        # Check if the preceding amino acid ends with K or R\n",
    "        preceding_ends_with_kr = protein_seq[start_idx - 1] in ['K', 'R']\n",
    "    \n",
    "    # Check if peptide ends with K or R\n",
    "    peptide_ends_with_kr = peptide_seq[-1] in ['K', 'R']\n",
    "    \n",
    "    # Apply the Simplified-Semi-Tryptic criteria\n",
    "    return (peptide_ends_with_kr and not preceding_ends_with_kr) or \\\n",
    "           (not peptide_ends_with_kr and preceding_ends_with_kr)\n",
    "\n",
    "# Function to analyze peptides for each tool\n",
    "def analyze_simplified_semi_tryptic(df_tool, df_data):\n",
    "    \"\"\"Analyze peptides to determine if they are Simplified-Semi-Tryptic.\"\"\"\n",
    "    results = []\n",
    "    for index, row in df_tool.iterrows():\n",
    "        protein_name = row['ProteinName']\n",
    "        peptide_seq = row['Peptide_Seq']\n",
    "        \n",
    "        if any(df_data.ProteinName == protein_name):\n",
    "            #nd_protein = df_data[df_data['ProteinName'].isin([protein_name]).index]\n",
    "            ind_protein =df_data.loc[df_data['ProteinName'].isin([protein_name])].index\n",
    "            protein_seq = df_data['sequence'][ind_protein].item()\n",
    "            #print(f\"Protein Name: {protein_name}\")\n",
    "            #print(f\"Peptide sequence: {peptide_seq}\")\n",
    "            #print(f\"protein seq: {protein_seq}\")\n",
    "            is_sst = is_simplified_semi_tryptic(peptide_seq, protein_seq)\n",
    "            results.append(is_sst)\n",
    "        else:\n",
    "            # If protein name not found, it's not Simplified-Semi-Tryptic\n",
    "            results.append(False)\n",
    "    \n",
    "    return results"
   ]
  },
  {
   "cell_type": "code",
   "execution_count": 98,
   "id": "8bde58b1-dbf8-4c3d-be25-3fc8c5fe5e43",
   "metadata": {},
   "outputs": [
    {
     "name": "stdout",
     "output_type": "stream",
     "text": [
      "True\n",
      "TOOL-A: 31.49% of peptides are Simplified-Semi-Tryptic\n",
      "TOOL-B: 22.12% of peptides are Simplified-Semi-Tryptic\n"
     ]
    }
   ],
   "source": [
    "isExist = os.path.exists('tool_A_wIsSST.csv') \n",
    "print(isExist)\n",
    "\n",
    "# to save computation we will save/open the output here. \n",
    "if isExist:\n",
    "    tool_A = pd.read_csv('tool_A_wIsSST.csv')\n",
    "    tool_B = pd.read_csv('tool_B_wIsSST.csv')\n",
    "else:\n",
    "    # run and find analyze_simplified_semi_tryptic\n",
    "    tool_A['IsSST'] = analyze_simplified_semi_tryptic(tool_A, protein_data)\n",
    "    tool_B['IsSST'] = analyze_simplified_semi_tryptic(tool_B, protein_data)\n",
    "    # save the output\n",
    "    tool_A.to_csv('tool_A_wIsSST.csv',sep = ',' )\n",
    "    tool_B.to_csv('tool_B_wIsSST.csv',sep = ',' )\n",
    "\n",
    "\n",
    "\n",
    "\n",
    "# Calculate the ratio of Simplified-Semi-Tryptic peptides for each tool\n",
    "sst_ratio_a = tool_A['IsSST'].mean()\n",
    "sst_ratio_b = tool_B['IsSST'].mean()\n",
    "\n",
    "print(f\"TOOL-A: {sst_ratio_a:.2%} of peptides are Simplified-Semi-Tryptic\")\n",
    "print(f\"TOOL-B: {sst_ratio_b:.2%} of peptides are Simplified-Semi-Tryptic\")\n"
   ]
  },
  {
   "cell_type": "code",
   "execution_count": 102,
   "id": "8de3bcf0-2bb4-409a-8aca-528018bdd4a5",
   "metadata": {},
   "outputs": [
    {
     "name": "stderr",
     "output_type": "stream",
     "text": [
      "C:\\Users\\kk_71\\AppData\\Local\\Temp\\ipykernel_4616\\865467625.py:3: FutureWarning: \n",
      "\n",
      "Passing `palette` without assigning `hue` is deprecated and will be removed in v0.14.0. Assign the `x` variable to `hue` and set `legend=False` for the same effect.\n",
      "\n",
      "  sns.barplot(x=['TOOL-A', 'TOOL-B'], y=[sst_ratio_a, sst_ratio_b], palette='viridis')\n"
     ]
    },
    {
     "data": {
      "image/png": "[encoded data removed]",
      "text/plain": [
       "<Figure size 1000x600 with 1 Axes>"
      ]
     },
     "metadata": {},
     "output_type": "display_data"
    }
   ],
   "source": [
    "# Visualize the comparison\n",
    "plt.figure(figsize=(10, 6))\n",
    "sns.barplot(x=['TOOL-A', 'TOOL-B'], y=[sst_ratio_a, sst_ratio_b], palette='viridis')\n",
    "plt.title('Ratio of Simplified-Semi-Tryptic Peptides', fontsize=16)\n",
    "plt.ylabel('Ratio', fontsize=14)\n",
    "plt.xlabel('Tool', fontsize=14)\n",
    "plt.ylim(0, 1)\n",
    "plt.grid(axis='y', linestyle='--', alpha=0.7)\n",
    "plt.tight_layout()\n",
    "plt.show()"
   ]
  },
  {
   "cell_type": "markdown",
   "id": "dbe032e4-c204-45ef-8c5e-cc9d8c7ac782",
   "metadata": {},
   "source": [
    "### 3.2. Protein Sequence Coverage\n",
    "\n",
    "Now, let's calculate the protein sequence coverage for each tool. Protein sequence coverage is defined as the ratio of the length of the found sequences to the total length of the protein sequence."
   ]
  },
  {
   "cell_type": "code",
   "execution_count": 103,
   "id": "c50c7fab-d028-4702-b64b-73c1417ad39c",
   "metadata": {},
   "outputs": [],
   "source": [
    "def calculate_coverage(df_tool, df_data):\n",
    "    \"\"\"Calculate protein sequence coverage for each protein.\"\"\"\n",
    "    coverage_dict = {}\n",
    "    # get unique values\n",
    "    grouped = df_tool['ProteinName'].unique()\n",
    "    for protein_name in grouped:\n",
    "       # if protein name is in data set\n",
    "        if df_data[\"ProteinName\"].isin([protein_name]).any():\n",
    "            \n",
    "            # get all the index and values \n",
    "            ind_protein =df_data.loc[df_data['ProteinName'].isin([protein_name])].index\n",
    "            protein_seq = df_data['sequence'][ind_protein].item()\n",
    "            \n",
    "            # calculate protein length\n",
    "            protein_length = len(protein_seq)\n",
    "            \n",
    "            # Get unique peptides for this protein\n",
    "            peptides = df_tool['Peptide_Seq'].unique()\n",
    "            \n",
    "            # Create a boolean array to track covered positions\n",
    "            covered = [False] * protein_length\n",
    "            for peptide in peptides:\n",
    "                if peptide in protein_seq:\n",
    "                    start_idx = protein_seq.find(peptide)\n",
    "                    end_idx = start_idx + len(peptide)\n",
    "                    \n",
    "                    # Mark positions as covered\n",
    "                    for i in range(start_idx, end_idx):\n",
    "                        covered[i] = True\n",
    "            \n",
    "            # Calculate coverage\n",
    "            coverage = sum(covered) / protein_length\n",
    "            coverage_dict[protein_name] = [coverage, sum(covered), protein_length]\n",
    "            #coverage_dict2[protein_name] = \n",
    "    return coverage_dict\n",
    "\n"
   ]
  },
  {
   "cell_type": "code",
   "execution_count": 104,
   "id": "87fcae18-2d89-4d45-a837-e4bb4676155c",
   "metadata": {},
   "outputs": [
    {
     "name": "stdout",
     "output_type": "stream",
     "text": [
      "does processed data exists? True\n"
     ]
    }
   ],
   "source": [
    "# Calculate coverage for both tools\n",
    "\n",
    "#new_tool_A = tool_A.copy(deep=True)\n",
    "#coverage_a, coverage_a2 = calculate_coverage(new_tool_A.iloc[0:50], protein_data.iloc[0:10000])\n",
    "#coverage_b = calculate_coverage(tool_B.iloc[0:10], protein_data.iloc[0:1000])\n",
    "isExist = os.path.exists('df_coverage_a.csv') \n",
    "print(f'does processed data exists? {isExist}')\n",
    "\n",
    "#to save computation we will save/open the output here. \n",
    "if isExist:\n",
    "    df_coverage_a = pd.read_csv('df_coverage_a.csv')\n",
    "    df_coverage_b = pd.read_csv('df_coverage_b.csv')\n",
    "else:\n",
    "    coverage_a = calculate_coverage(tool_A, protein_data)\n",
    "    coverage_b = calculate_coverage(tool_B, protein_data)\n",
    "    # covert to a dataframe Tool A\n",
    "    df_coverage_a = pd.DataFrame.from_dict(coverage_a, orient = 'index')\n",
    "    df_coverage_a = df_coverage_a.set_axis(['coverage','len_found','len_protein'], axis = 1)#columns = {'0': 'coverage','1': 'len_found','2':'len_protein'})\n",
    "\n",
    "    # covert to a dataframe Tool B\n",
    "    df_coverage_b = pd.DataFrame.from_dict(coverage_b, orient = 'index')\n",
    "    df_coverage_b = df_coverage_b.set_axis(['coverage','len_found','len_protein'], axis = 1)#columns = {'0': 'coverage','1': 'len_found','2':'len_protein'})\n",
    "\n",
    "    # save to CSV file\n",
    "    df_coverage_a.to_csv('df_coverage_a.csv',sep = ',' )\n",
    "    df_coverage_b.to_csv('df_coverage_b.csv',sep = ',' )\n"
   ]
  },
  {
   "cell_type": "code",
   "execution_count": 105,
   "id": "88e1827e-e935-47cb-b9f3-849268f084e5",
   "metadata": {},
   "outputs": [
    {
     "data": {
      "text/html": [
       "<div>\n",
       "<style scoped>\n",
       "    .dataframe tbody tr th:only-of-type {\n",
       "        vertical-align: middle;\n",
       "    }\n",
       "\n",
       "    .dataframe tbody tr th {\n",
       "        vertical-align: top;\n",
       "    }\n",
       "\n",
       "    .dataframe thead th {\n",
       "        text-align: right;\n",
       "    }\n",
       "</style>\n",
       "<table border=\"1\" class=\"dataframe\">\n",
       "  <thead>\n",
       "    <tr style=\"text-align: right;\">\n",
       "      <th></th>\n",
       "      <th>Unnamed: 0</th>\n",
       "      <th>coverage</th>\n",
       "      <th>len_found</th>\n",
       "      <th>len_protein</th>\n",
       "    </tr>\n",
       "  </thead>\n",
       "  <tbody>\n",
       "    <tr>\n",
       "      <th>0</th>\n",
       "      <td>SRC8_HUMAN</td>\n",
       "      <td>0.327273</td>\n",
       "      <td>180</td>\n",
       "      <td>550</td>\n",
       "    </tr>\n",
       "    <tr>\n",
       "      <th>1</th>\n",
       "      <td>APT_HUMAN</td>\n",
       "      <td>0.838889</td>\n",
       "      <td>151</td>\n",
       "      <td>180</td>\n",
       "    </tr>\n",
       "    <tr>\n",
       "      <th>2</th>\n",
       "      <td>TRXR1_HUMAN</td>\n",
       "      <td>0.448382</td>\n",
       "      <td>291</td>\n",
       "      <td>649</td>\n",
       "    </tr>\n",
       "    <tr>\n",
       "      <th>3</th>\n",
       "      <td>GALD1_HUMAN</td>\n",
       "      <td>0.259091</td>\n",
       "      <td>57</td>\n",
       "      <td>220</td>\n",
       "    </tr>\n",
       "    <tr>\n",
       "      <th>4</th>\n",
       "      <td>TRADD_HUMAN</td>\n",
       "      <td>0.233974</td>\n",
       "      <td>73</td>\n",
       "      <td>312</td>\n",
       "    </tr>\n",
       "  </tbody>\n",
       "</table>\n",
       "</div>"
      ],
      "text/plain": [
       "    Unnamed: 0  coverage  len_found  len_protein\n",
       "0   SRC8_HUMAN  0.327273        180          550\n",
       "1    APT_HUMAN  0.838889        151          180\n",
       "2  TRXR1_HUMAN  0.448382        291          649\n",
       "3  GALD1_HUMAN  0.259091         57          220\n",
       "4  TRADD_HUMAN  0.233974         73          312"
      ]
     },
     "metadata": {},
     "output_type": "display_data"
    },
    {
     "data": {
      "text/html": [
       "<div>\n",
       "<style scoped>\n",
       "    .dataframe tbody tr th:only-of-type {\n",
       "        vertical-align: middle;\n",
       "    }\n",
       "\n",
       "    .dataframe tbody tr th {\n",
       "        vertical-align: top;\n",
       "    }\n",
       "\n",
       "    .dataframe thead th {\n",
       "        text-align: right;\n",
       "    }\n",
       "</style>\n",
       "<table border=\"1\" class=\"dataframe\">\n",
       "  <thead>\n",
       "    <tr style=\"text-align: right;\">\n",
       "      <th></th>\n",
       "      <th>Unnamed: 0</th>\n",
       "      <th>coverage</th>\n",
       "      <th>len_found</th>\n",
       "      <th>len_protein</th>\n",
       "    </tr>\n",
       "  </thead>\n",
       "  <tbody>\n",
       "    <tr>\n",
       "      <th>0</th>\n",
       "      <td>1433E_HUMAN</td>\n",
       "      <td>0.760784</td>\n",
       "      <td>194</td>\n",
       "      <td>255</td>\n",
       "    </tr>\n",
       "    <tr>\n",
       "      <th>1</th>\n",
       "      <td>EIF3G_HUMAN</td>\n",
       "      <td>0.237500</td>\n",
       "      <td>76</td>\n",
       "      <td>320</td>\n",
       "    </tr>\n",
       "    <tr>\n",
       "      <th>2</th>\n",
       "      <td>STIP1_HUMAN</td>\n",
       "      <td>0.453039</td>\n",
       "      <td>246</td>\n",
       "      <td>543</td>\n",
       "    </tr>\n",
       "    <tr>\n",
       "      <th>3</th>\n",
       "      <td>GATA3_HUMAN</td>\n",
       "      <td>0.130926</td>\n",
       "      <td>58</td>\n",
       "      <td>443</td>\n",
       "    </tr>\n",
       "    <tr>\n",
       "      <th>4</th>\n",
       "      <td>FLNA_HUMAN</td>\n",
       "      <td>0.504345</td>\n",
       "      <td>1335</td>\n",
       "      <td>2647</td>\n",
       "    </tr>\n",
       "  </tbody>\n",
       "</table>\n",
       "</div>"
      ],
      "text/plain": [
       "    Unnamed: 0  coverage  len_found  len_protein\n",
       "0  1433E_HUMAN  0.760784        194          255\n",
       "1  EIF3G_HUMAN  0.237500         76          320\n",
       "2  STIP1_HUMAN  0.453039        246          543\n",
       "3  GATA3_HUMAN  0.130926         58          443\n",
       "4   FLNA_HUMAN  0.504345       1335         2647"
      ]
     },
     "metadata": {},
     "output_type": "display_data"
    }
   ],
   "source": [
    "display(df_coverage_a.head())\n",
    "display(df_coverage_b.head())"
   ]
  },
  {
   "cell_type": "code",
   "execution_count": 106,
   "id": "af90390b-b00c-40da-ab47-a6b7c04aeec1",
   "metadata": {},
   "outputs": [
    {
     "name": "stdout",
     "output_type": "stream",
     "text": [
      "TOOL-A: IQR protein sequence coverage = 22.05%\n",
      "TOOL-B: IQR protein sequence coverage = 16.27%\n",
      "TOOL-A: IQR protein sequence coverage = [np.float64(16.74326713714347), np.float64(6.67059131344845), np.float64(32.27387653849823)]\n",
      "TOOL-B: IQR protein sequence coverage = [np.float64(12.643678160919539), np.float64(5.593339804744735), np.float64(23.579686139239424)]\n",
      "====================================================================================================\n",
      "TOOL-A: Average length of found = 107.86733870967743\n",
      "TOOL-B: Average length of found = 72.93054997992773\n",
      "TOOL-A: IQR Protein found length = [np.float64(72.0), np.float64(32.75), np.float64(140.0)]\n",
      "TOOL-B: IQR Protein found length = [np.float64(48.0), np.float64(24.0), np.float64(90.0)]\n",
      "====================================================================================================\n",
      "TOOL-A: Average length of found = 647.3610887096775\n",
      "TOOL-B: Average length of found = 582.2906463267764\n",
      "TOOL-A: IQR Protein  length = [np.float64(479.0), np.float64(290.0), np.float64(796.0)]\n",
      "TOOL-B: IQR Protein  length = [np.float64(433.0), np.float64(254.5), np.float64(715.0)]\n",
      "====================================================================================================\n"
     ]
    }
   ],
   "source": [
    "# Calculate average coverage\n",
    "avg_coverage_a = df_coverage_a.coverage.mean()\n",
    "avg_coverage_b = df_coverage_b.coverage.mean()\n",
    "\n",
    "# Coverage\n",
    "print(f\"TOOL-A: IQR protein sequence coverage = {avg_coverage_a:.2%}\")\n",
    "print(f\"TOOL-B: IQR protein sequence coverage = {avg_coverage_b:.2%}\")\n",
    "IQR_coverage_a = [df_coverage_a.coverage.median() * 100, df_coverage_a.coverage.quantile(0.25)*100, df_coverage_a.coverage.quantile(0.75)*100]\n",
    "IQR_coverage_b = [df_coverage_b.coverage.median()*100, df_coverage_b.coverage.quantile(0.25)*100, df_coverage_b.coverage.quantile(0.75)*100]\n",
    "print(f\"TOOL-A: IQR protein sequence coverage = {IQR_coverage_a}\")\n",
    "print(f\"TOOL-B: IQR protein sequence coverage = {IQR_coverage_b}\")\n",
    "\n",
    "print('='* 100)\n",
    "\n",
    "# Len found\n",
    "print(f\"TOOL-A: Average length of found = {df_coverage_a.len_found.mean()}\")\n",
    "print(f\"TOOL-B: Average length of found = {df_coverage_b.len_found.mean()}\")\n",
    "IQR_length_fa = [df_coverage_a.len_found.median(), df_coverage_a.len_found.quantile(0.25), df_coverage_a.len_found.quantile(0.75)]\n",
    "IQR_length_fb = [df_coverage_b.len_found.median(), df_coverage_b.len_found.quantile(0.25), df_coverage_b.len_found.quantile(0.75)]\n",
    "print(f\"TOOL-A: IQR Protein found length = {IQR_length_fa}\")\n",
    "print(f\"TOOL-B: IQR Protein found length = {IQR_length_fb}\")\n",
    "print('='* 100)\n",
    "\n",
    "# len protein\n",
    "print(f\"TOOL-A: Average length of found = {df_coverage_a.len_protein.mean()}\")\n",
    "print(f\"TOOL-B: Average length of found = {df_coverage_b.len_protein.mean()}\")\n",
    "IQR_length_fa = [df_coverage_a.len_protein.median(), df_coverage_a.len_protein.quantile(0.25), df_coverage_a.len_protein.quantile(0.75)]\n",
    "IQR_length_fb = [df_coverage_b.len_protein.median(), df_coverage_b.len_protein.quantile(0.25), df_coverage_b.len_protein.quantile(0.75)]\n",
    "print(f\"TOOL-A: IQR Protein  length = {IQR_length_fa}\")\n",
    "print(f\"TOOL-B: IQR Protein  length = {IQR_length_fb}\")\n",
    "print('='* 100)\n",
    "\n",
    "\n",
    "\n",
    "#print(f\"TOOL-A: Average length of found = {df_coverage_a.len_protein.mean()}\")\n",
    "#print(f\"TOOL-B: Average length of found = {df_coverage_b.len_protein.mean()}\")"
   ]
  },
  {
   "cell_type": "markdown",
   "id": "8ee3fefc-a582-4ef5-837c-7c47cce4de5f",
   "metadata": {},
   "source": [
    "##### Tool A:\n",
    "**Protein Sequence Coverage**\n",
    "Mean: 22.05%\n",
    "Median IQR: 16.74% [6.67 - 32.27]%\n",
    "\n",
    "**len Protein found**\n",
    "Mean: 108\n",
    "Median IQR: 72 [32.75-140]\n",
    "\n",
    "**len Protein**\n",
    "Mean: 647\n",
    "Median IQR: 479 [290-796]\n",
    "##### Tool B:\n",
    "**Protein Sequence Coverage**\n",
    "Mean: 16.27%\n",
    "Median IQR: 12.64% [5.59 - 23.58]%\n",
    "\n",
    "**len Protein found**\n",
    "Mean: 72\n",
    "Median IQR: 48 [24-90]\n",
    "\n",
    "**len Protein**\n",
    "Mean: 582\n",
    "Median IQR: 433 [255-715]"
   ]
  },
  {
   "cell_type": "code",
   "execution_count": 23,
   "id": "800bbcd5-a974-42b9-a363-52d352879be1",
   "metadata": {
    "scrolled": true
   },
   "outputs": [
    {
     "name": "stderr",
     "output_type": "stream",
     "text": [
      "C:\\Users\\kk_71\\AppData\\Local\\Temp\\ipykernel_5636\\3380240016.py:3: FutureWarning: \n",
      "\n",
      "Passing `palette` without assigning `hue` is deprecated and will be removed in v0.14.0. Assign the `x` variable to `hue` and set `legend=False` for the same effect.\n",
      "\n",
      "  sns.barplot(x=['TOOL-A', 'TOOL-B'], y=[avg_coverage_a, avg_coverage_b], palette='viridis')\n"
     ]
    },
    {
     "data": {
      "image/png": "[encoded data removed]",
      "text/plain": [
       "<Figure size 1000x600 with 1 Axes>"
      ]
     },
     "metadata": {},
     "output_type": "display_data"
    }
   ],
   "source": [
    "# Visualize the comparison\n",
    "plt.figure(figsize=(10, 6))\n",
    "sns.barplot(x=['TOOL-A', 'TOOL-B'], y=[avg_coverage_a, avg_coverage_b], palette='viridis')\n",
    "plt.title('Average Protein Sequence Coverage', fontsize=16)\n",
    "plt.ylabel('Coverage', fontsize=14)\n",
    "plt.xlabel('Tool', fontsize=14)\n",
    "plt.ylim(0, 1)\n",
    "plt.grid(axis='y', linestyle='--', alpha=0.7)\n",
    "plt.tight_layout()\n",
    "plt.show()"
   ]
  },
  {
   "cell_type": "code",
   "execution_count": 24,
   "id": "823160b5-cff6-46ea-b32b-16babdb31dd9",
   "metadata": {
    "scrolled": true
   },
   "outputs": [
    {
     "data": {
      "text/html": [
       "<div>\n",
       "<style scoped>\n",
       "    .dataframe tbody tr th:only-of-type {\n",
       "        vertical-align: middle;\n",
       "    }\n",
       "\n",
       "    .dataframe tbody tr th {\n",
       "        vertical-align: top;\n",
       "    }\n",
       "\n",
       "    .dataframe thead th {\n",
       "        text-align: right;\n",
       "    }\n",
       "</style>\n",
       "<table border=\"1\" class=\"dataframe\">\n",
       "  <thead>\n",
       "    <tr style=\"text-align: right;\">\n",
       "      <th></th>\n",
       "      <th>Unnamed: 0</th>\n",
       "      <th>coverage</th>\n",
       "      <th>len_found</th>\n",
       "      <th>len_protein</th>\n",
       "    </tr>\n",
       "  </thead>\n",
       "  <tbody>\n",
       "    <tr>\n",
       "      <th>0</th>\n",
       "      <td>SRC8_HUMAN</td>\n",
       "      <td>0.327273</td>\n",
       "      <td>180</td>\n",
       "      <td>550</td>\n",
       "    </tr>\n",
       "    <tr>\n",
       "      <th>1</th>\n",
       "      <td>APT_HUMAN</td>\n",
       "      <td>0.838889</td>\n",
       "      <td>151</td>\n",
       "      <td>180</td>\n",
       "    </tr>\n",
       "    <tr>\n",
       "      <th>2</th>\n",
       "      <td>TRXR1_HUMAN</td>\n",
       "      <td>0.448382</td>\n",
       "      <td>291</td>\n",
       "      <td>649</td>\n",
       "    </tr>\n",
       "    <tr>\n",
       "      <th>3</th>\n",
       "      <td>GALD1_HUMAN</td>\n",
       "      <td>0.259091</td>\n",
       "      <td>57</td>\n",
       "      <td>220</td>\n",
       "    </tr>\n",
       "    <tr>\n",
       "      <th>4</th>\n",
       "      <td>TRADD_HUMAN</td>\n",
       "      <td>0.233974</td>\n",
       "      <td>73</td>\n",
       "      <td>312</td>\n",
       "    </tr>\n",
       "  </tbody>\n",
       "</table>\n",
       "</div>"
      ],
      "text/plain": [
       "    Unnamed: 0  coverage  len_found  len_protein\n",
       "0   SRC8_HUMAN  0.327273        180          550\n",
       "1    APT_HUMAN  0.838889        151          180\n",
       "2  TRXR1_HUMAN  0.448382        291          649\n",
       "3  GALD1_HUMAN  0.259091         57          220\n",
       "4  TRADD_HUMAN  0.233974         73          312"
      ]
     },
     "metadata": {},
     "output_type": "display_data"
    },
    {
     "data": {
      "text/html": [
       "<div>\n",
       "<style scoped>\n",
       "    .dataframe tbody tr th:only-of-type {\n",
       "        vertical-align: middle;\n",
       "    }\n",
       "\n",
       "    .dataframe tbody tr th {\n",
       "        vertical-align: top;\n",
       "    }\n",
       "\n",
       "    .dataframe thead th {\n",
       "        text-align: right;\n",
       "    }\n",
       "</style>\n",
       "<table border=\"1\" class=\"dataframe\">\n",
       "  <thead>\n",
       "    <tr style=\"text-align: right;\">\n",
       "      <th></th>\n",
       "      <th>Unnamed: 0</th>\n",
       "      <th>coverage</th>\n",
       "      <th>len_found</th>\n",
       "      <th>len_protein</th>\n",
       "    </tr>\n",
       "  </thead>\n",
       "  <tbody>\n",
       "    <tr>\n",
       "      <th>0</th>\n",
       "      <td>SRC8_HUMAN</td>\n",
       "      <td>0.327273</td>\n",
       "      <td>180</td>\n",
       "      <td>550</td>\n",
       "    </tr>\n",
       "    <tr>\n",
       "      <th>1</th>\n",
       "      <td>APT_HUMAN</td>\n",
       "      <td>0.838889</td>\n",
       "      <td>151</td>\n",
       "      <td>180</td>\n",
       "    </tr>\n",
       "    <tr>\n",
       "      <th>2</th>\n",
       "      <td>TRXR1_HUMAN</td>\n",
       "      <td>0.448382</td>\n",
       "      <td>291</td>\n",
       "      <td>649</td>\n",
       "    </tr>\n",
       "    <tr>\n",
       "      <th>3</th>\n",
       "      <td>GALD1_HUMAN</td>\n",
       "      <td>0.259091</td>\n",
       "      <td>57</td>\n",
       "      <td>220</td>\n",
       "    </tr>\n",
       "    <tr>\n",
       "      <th>4</th>\n",
       "      <td>TRADD_HUMAN</td>\n",
       "      <td>0.233974</td>\n",
       "      <td>73</td>\n",
       "      <td>312</td>\n",
       "    </tr>\n",
       "  </tbody>\n",
       "</table>\n",
       "</div>"
      ],
      "text/plain": [
       "    Unnamed: 0  coverage  len_found  len_protein\n",
       "0   SRC8_HUMAN  0.327273        180          550\n",
       "1    APT_HUMAN  0.838889        151          180\n",
       "2  TRXR1_HUMAN  0.448382        291          649\n",
       "3  GALD1_HUMAN  0.259091         57          220\n",
       "4  TRADD_HUMAN  0.233974         73          312"
      ]
     },
     "metadata": {},
     "output_type": "display_data"
    },
    {
     "data": {
      "text/html": [
       "<div>\n",
       "<style scoped>\n",
       "    .dataframe tbody tr th:only-of-type {\n",
       "        vertical-align: middle;\n",
       "    }\n",
       "\n",
       "    .dataframe tbody tr th {\n",
       "        vertical-align: top;\n",
       "    }\n",
       "\n",
       "    .dataframe thead th {\n",
       "        text-align: right;\n",
       "    }\n",
       "</style>\n",
       "<table border=\"1\" class=\"dataframe\">\n",
       "  <thead>\n",
       "    <tr style=\"text-align: right;\">\n",
       "      <th></th>\n",
       "      <th>index</th>\n",
       "      <th>ProteinName</th>\n",
       "      <th>Peptide_Seq</th>\n",
       "      <th>IsSST</th>\n",
       "    </tr>\n",
       "  </thead>\n",
       "  <tbody>\n",
       "    <tr>\n",
       "      <th>0</th>\n",
       "      <td>0</td>\n",
       "      <td>SRC8_HUMAN</td>\n",
       "      <td>PVEAVTSK</td>\n",
       "      <td>True</td>\n",
       "    </tr>\n",
       "    <tr>\n",
       "      <th>1</th>\n",
       "      <td>1</td>\n",
       "      <td>APT_HUMAN</td>\n",
       "      <td>LQAEVLECVSLVELTSLK</td>\n",
       "      <td>False</td>\n",
       "    </tr>\n",
       "    <tr>\n",
       "      <th>2</th>\n",
       "      <td>2</td>\n",
       "      <td>TRXR1_HUMAN</td>\n",
       "      <td>VVYENAYGQFIGPHR</td>\n",
       "      <td>False</td>\n",
       "    </tr>\n",
       "    <tr>\n",
       "      <th>3</th>\n",
       "      <td>4</td>\n",
       "      <td>GALD1_HUMAN</td>\n",
       "      <td>AMEFVDVTESNAR</td>\n",
       "      <td>False</td>\n",
       "    </tr>\n",
       "    <tr>\n",
       "      <th>4</th>\n",
       "      <td>5</td>\n",
       "      <td>TRADD_HUMAN</td>\n",
       "      <td>VVLSDAYAHPQQK</td>\n",
       "      <td>False</td>\n",
       "    </tr>\n",
       "  </tbody>\n",
       "</table>\n",
       "</div>"
      ],
      "text/plain": [
       "   index  ProteinName         Peptide_Seq  IsSST\n",
       "0      0   SRC8_HUMAN            PVEAVTSK   True\n",
       "1      1    APT_HUMAN  LQAEVLECVSLVELTSLK  False\n",
       "2      2  TRXR1_HUMAN     VVYENAYGQFIGPHR  False\n",
       "3      4  GALD1_HUMAN       AMEFVDVTESNAR  False\n",
       "4      5  TRADD_HUMAN       VVLSDAYAHPQQK  False"
      ]
     },
     "metadata": {},
     "output_type": "display_data"
    },
    {
     "data": {
      "text/html": [
       "<div>\n",
       "<style scoped>\n",
       "    .dataframe tbody tr th:only-of-type {\n",
       "        vertical-align: middle;\n",
       "    }\n",
       "\n",
       "    .dataframe tbody tr th {\n",
       "        vertical-align: top;\n",
       "    }\n",
       "\n",
       "    .dataframe thead th {\n",
       "        text-align: right;\n",
       "    }\n",
       "</style>\n",
       "<table border=\"1\" class=\"dataframe\">\n",
       "  <thead>\n",
       "    <tr style=\"text-align: right;\">\n",
       "      <th></th>\n",
       "      <th>Unnamed: 0</th>\n",
       "      <th>ProteinName</th>\n",
       "      <th>Peptide_Seq</th>\n",
       "      <th>id</th>\n",
       "      <th>IsSST</th>\n",
       "    </tr>\n",
       "  </thead>\n",
       "  <tbody>\n",
       "    <tr>\n",
       "      <th>0</th>\n",
       "      <td>0</td>\n",
       "      <td>1433E_HUMAN</td>\n",
       "      <td>MDDREDLVYQAK</td>\n",
       "      <td>P62258</td>\n",
       "      <td>False</td>\n",
       "    </tr>\n",
       "    <tr>\n",
       "      <th>1</th>\n",
       "      <td>1</td>\n",
       "      <td>1433E_HUMAN</td>\n",
       "      <td>MDDREDLVYQAK</td>\n",
       "      <td>P62258</td>\n",
       "      <td>False</td>\n",
       "    </tr>\n",
       "    <tr>\n",
       "      <th>2</th>\n",
       "      <td>2</td>\n",
       "      <td>1433E_HUMAN</td>\n",
       "      <td>MDDREDLVYQAK</td>\n",
       "      <td>P62258</td>\n",
       "      <td>False</td>\n",
       "    </tr>\n",
       "    <tr>\n",
       "      <th>3</th>\n",
       "      <td>3</td>\n",
       "      <td>1433E_HUMAN</td>\n",
       "      <td>MDDREDLVYQAK</td>\n",
       "      <td>P62258</td>\n",
       "      <td>False</td>\n",
       "    </tr>\n",
       "    <tr>\n",
       "      <th>4</th>\n",
       "      <td>4</td>\n",
       "      <td>1433E_HUMAN</td>\n",
       "      <td>MDDREDLVYQAK</td>\n",
       "      <td>P62258</td>\n",
       "      <td>False</td>\n",
       "    </tr>\n",
       "  </tbody>\n",
       "</table>\n",
       "</div>"
      ],
      "text/plain": [
       "   Unnamed: 0  ProteinName   Peptide_Seq      id  IsSST\n",
       "0           0  1433E_HUMAN  MDDREDLVYQAK  P62258  False\n",
       "1           1  1433E_HUMAN  MDDREDLVYQAK  P62258  False\n",
       "2           2  1433E_HUMAN  MDDREDLVYQAK  P62258  False\n",
       "3           3  1433E_HUMAN  MDDREDLVYQAK  P62258  False\n",
       "4           4  1433E_HUMAN  MDDREDLVYQAK  P62258  False"
      ]
     },
     "metadata": {},
     "output_type": "display_data"
    }
   ],
   "source": [
    "display(df_coverage_a.head())\n",
    "display(df_coverage_a.head())\n",
    "display(tool_A.head())\n",
    "display(tool_B.head())"
   ]
  },
  {
   "cell_type": "code",
   "execution_count": 38,
   "id": "4fe185a5-2e87-4a5f-b304-4bf0347299d7",
   "metadata": {},
   "outputs": [
    {
     "data": {
      "text/plain": [
       "<seaborn.axisgrid.FacetGrid at 0x2865fa3abd0>"
      ]
     },
     "execution_count": 38,
     "metadata": {},
     "output_type": "execute_result"
    },
    {
     "data": {
      "image/png": "[encoded data removed]",
      "text/plain": [
       "<Figure size 500x500 with 1 Axes>"
      ]
     },
     "metadata": {},
     "output_type": "display_data"
    }
   ],
   "source": [
    "sns.displot(df_coverage_a, y= 'coverage' ).set(xlim=(1,600))"
   ]
  },
  {
   "cell_type": "code",
   "execution_count": 37,
   "id": "bc0c48a8-ced8-402f-aee9-63479bcb5db2",
   "metadata": {},
   "outputs": [
    {
     "data": {
      "text/plain": [
       "<seaborn.axisgrid.FacetGrid at 0x28658b453d0>"
      ]
     },
     "execution_count": 37,
     "metadata": {},
     "output_type": "execute_result"
    },
    {
     "data": {
      "image/png": "[encoded data removed]",
      "text/plain": [
       "<Figure size 500x500 with 1 Axes>"
      ]
     },
     "metadata": {},
     "output_type": "display_data"
    }
   ],
   "source": [
    "sns.displot(df_coverage_b, y= 'coverage' ).set(xlim=(1,600))"
   ]
  },
  {
   "cell_type": "markdown",
   "id": "ddc97e46-19a3-4a1b-995d-a5d9519feb21",
   "metadata": {},
   "source": [
    "## 4. Overall performance"
   ]
  },
  {
   "cell_type": "code",
   "execution_count": 25,
   "id": "f08b7c99-2196-452f-a129-57367d34279c",
   "metadata": {},
   "outputs": [],
   "source": [
    "# Create a summary DataFrame\n",
    "summary_data = {\n",
    "    'Criterion': [\n",
    "        'Unique Peptides',\n",
    "        'Unique Proteins',\n",
    "        'Simplified-Semi-Tryptic Ratio',\n",
    "        'Average Protein Coverage'\n",
    "    ],\n",
    "    'TOOL-A': [\n",
    "        unique_peptide_A,\n",
    "        unique_proteins_name_A,\n",
    "        sst_ratio_a,\n",
    "        avg_coverage_a\n",
    "    ],\n",
    "    'TOOL-B': [\n",
    "        unique_peptide_B,\n",
    "        unique_proteins_name_B,\n",
    "        sst_ratio_b,\n",
    "        avg_coverage_b\n",
    "    ]\n",
    "}\n",
    "\n",
    "summary_df = pd.DataFrame(summary_data)\n"
   ]
  },
  {
   "cell_type": "code",
   "execution_count": 26,
   "id": "1f4c1fd0-aa4b-449b-a1d1-20ded61884b0",
   "metadata": {},
   "outputs": [
    {
     "data": {
      "text/html": [
       "<div>\n",
       "<style scoped>\n",
       "    .dataframe tbody tr th:only-of-type {\n",
       "        vertical-align: middle;\n",
       "    }\n",
       "\n",
       "    .dataframe tbody tr th {\n",
       "        vertical-align: top;\n",
       "    }\n",
       "\n",
       "    .dataframe thead th {\n",
       "        text-align: right;\n",
       "    }\n",
       "</style>\n",
       "<table border=\"1\" class=\"dataframe\">\n",
       "  <thead>\n",
       "    <tr style=\"text-align: right;\">\n",
       "      <th></th>\n",
       "      <th>Criterion</th>\n",
       "      <th>TOOL-A</th>\n",
       "      <th>TOOL-B</th>\n",
       "    </tr>\n",
       "  </thead>\n",
       "  <tbody>\n",
       "    <tr>\n",
       "      <th>0</th>\n",
       "      <td>Unique Peptides</td>\n",
       "      <td>53158.000000</td>\n",
       "      <td>16395.000000</td>\n",
       "    </tr>\n",
       "    <tr>\n",
       "      <th>1</th>\n",
       "      <td>Unique Proteins</td>\n",
       "      <td>4984.000000</td>\n",
       "      <td>2497.000000</td>\n",
       "    </tr>\n",
       "    <tr>\n",
       "      <th>2</th>\n",
       "      <td>Simplified-Semi-Tryptic Ratio</td>\n",
       "      <td>0.314927</td>\n",
       "      <td>0.221245</td>\n",
       "    </tr>\n",
       "    <tr>\n",
       "      <th>3</th>\n",
       "      <td>Average Protein Coverage</td>\n",
       "      <td>0.220540</td>\n",
       "      <td>0.162669</td>\n",
       "    </tr>\n",
       "  </tbody>\n",
       "</table>\n",
       "</div>"
      ],
      "text/plain": [
       "                       Criterion        TOOL-A        TOOL-B\n",
       "0                Unique Peptides  53158.000000  16395.000000\n",
       "1                Unique Proteins   4984.000000   2497.000000\n",
       "2  Simplified-Semi-Tryptic Ratio      0.314927      0.221245\n",
       "3       Average Protein Coverage      0.220540      0.162669"
      ]
     },
     "execution_count": 26,
     "metadata": {},
     "output_type": "execute_result"
    }
   ],
   "source": [
    "summary_df"
   ]
  },
  {
   "cell_type": "code",
   "execution_count": 27,
   "id": "98e1871b-bcc8-4975-bd40-cfa0ece09647",
   "metadata": {},
   "outputs": [
    {
     "data": {
      "text/html": [
       "<div>\n",
       "<style scoped>\n",
       "    .dataframe tbody tr th:only-of-type {\n",
       "        vertical-align: middle;\n",
       "    }\n",
       "\n",
       "    .dataframe tbody tr th {\n",
       "        vertical-align: top;\n",
       "    }\n",
       "\n",
       "    .dataframe thead th {\n",
       "        text-align: right;\n",
       "    }\n",
       "</style>\n",
       "<table border=\"1\" class=\"dataframe\">\n",
       "  <thead>\n",
       "    <tr style=\"text-align: right;\">\n",
       "      <th></th>\n",
       "      <th>Criterion</th>\n",
       "      <th>TOOL-A</th>\n",
       "      <th>TOOL-B</th>\n",
       "      <th>Better Tool</th>\n",
       "    </tr>\n",
       "  </thead>\n",
       "  <tbody>\n",
       "    <tr>\n",
       "      <th>0</th>\n",
       "      <td>Unique Peptides</td>\n",
       "      <td>53158.0</td>\n",
       "      <td>16395.0</td>\n",
       "      <td>TOOL-A</td>\n",
       "    </tr>\n",
       "    <tr>\n",
       "      <th>1</th>\n",
       "      <td>Unique Proteins</td>\n",
       "      <td>4984.0</td>\n",
       "      <td>2497.0</td>\n",
       "      <td>TOOL-A</td>\n",
       "    </tr>\n",
       "    <tr>\n",
       "      <th>2</th>\n",
       "      <td>Simplified-Semi-Tryptic Ratio</td>\n",
       "      <td>31.49%</td>\n",
       "      <td>22.12%</td>\n",
       "      <td>TOOL-A</td>\n",
       "    </tr>\n",
       "    <tr>\n",
       "      <th>3</th>\n",
       "      <td>Average Protein Coverage</td>\n",
       "      <td>22.05%</td>\n",
       "      <td>16.27%</td>\n",
       "      <td>TOOL-A</td>\n",
       "    </tr>\n",
       "  </tbody>\n",
       "</table>\n",
       "</div>"
      ],
      "text/plain": [
       "                       Criterion   TOOL-A   TOOL-B Better Tool\n",
       "0                Unique Peptides  53158.0  16395.0      TOOL-A\n",
       "1                Unique Proteins   4984.0   2497.0      TOOL-A\n",
       "2  Simplified-Semi-Tryptic Ratio   31.49%   22.12%      TOOL-A\n",
       "3       Average Protein Coverage   22.05%   16.27%      TOOL-A"
      ]
     },
     "metadata": {},
     "output_type": "display_data"
    }
   ],
   "source": [
    "# Add a column to indicate which tool performed better for each criterion\n",
    "summary_df['Better Tool'] = summary_df.apply(\n",
    "    lambda row: 'TOOL-A' if row['TOOL-A'] > row['TOOL-B'] else 'TOOL-B' if row['TOOL-B'] > row['TOOL-A'] else 'Equal',\n",
    "    axis=1\n",
    ")\n",
    "\n",
    "# Format the values for better readability\n",
    "summary_df['TOOL-A'] = summary_df.apply(\n",
    "    lambda row: f\"{row['TOOL-A']:.2%}\" if row['Criterion'] in ['Simplified-Semi-Tryptic Ratio', 'Average Protein Coverage'] else row['TOOL-A'],\n",
    "    axis=1\n",
    ")\n",
    "\n",
    "summary_df['TOOL-B'] = summary_df.apply(\n",
    "    lambda row: f\"{row['TOOL-B']:.2%}\" if row['Criterion'] in ['Simplified-Semi-Tryptic Ratio', 'Average Protein Coverage'] else row['TOOL-B'],\n",
    "    axis=1\n",
    ")\n",
    "\n",
    "display(summary_df)"
   ]
  },
  {
   "cell_type": "code",
   "execution_count": 28,
   "id": "6c85eb03-2734-4f17-b195-432bde3e98d0",
   "metadata": {},
   "outputs": [
    {
     "name": "stdout",
     "output_type": "stream",
     "text": [
      "TOOL-A wins in 4 criteria\n",
      "TOOL-B wins in 0 criteria\n",
      "Tools are equal in 0 criteria\n",
      "\n",
      "Overall better tool: TOOL-A\n"
     ]
    }
   ],
   "source": [
    "# Count how many criteria each tool wins\n",
    "tool_a_wins = (summary_df['Better Tool'] == 'TOOL-A').sum()\n",
    "tool_b_wins = (summary_df['Better Tool'] == 'TOOL-B').sum()\n",
    "equal_wins = (summary_df['Better Tool'] == 'Equal').sum()\n",
    "\n",
    "print(f\"TOOL-A wins in {tool_a_wins} criteria\")\n",
    "print(f\"TOOL-B wins in {tool_b_wins} criteria\")\n",
    "print(f\"Tools are equal in {equal_wins} criteria\")\n",
    "\n",
    "# Determine the overall better tool\n",
    "if tool_a_wins > tool_b_wins:\n",
    "    better_tool = 'TOOL-A'\n",
    "elif tool_b_wins > tool_a_wins:\n",
    "    better_tool = 'TOOL-B'\n",
    "else:\n",
    "    better_tool = 'Equal'\n",
    "\n",
    "print(f\"\\nOverall better tool: {better_tool}\")\n"
   ]
  },
  {
   "cell_type": "code",
   "execution_count": 29,
   "id": "41f3a230-cc0d-422d-8538-b39a2022b393",
   "metadata": {},
   "outputs": [
    {
     "data": {
      "image/png": "[encoded data removed]",
      "text/plain": [
       "<Figure size 1200x800 with 1 Axes>"
      ]
     },
     "metadata": {},
     "output_type": "display_data"
    }
   ],
   "source": [
    "# Visualize the overall comparison\n",
    "plt.figure(figsize=(12, 8))\n",
    "\n",
    "# Prepare data for radar chart\n",
    "categories = ['Unique Peptides', 'Unique Proteins', 'SST Ratio', 'Protein Coverage']\n",
    "values_a = [unique_peptide_A / max(unique_peptide_A, unique_peptide_B),\n",
    "           unique_proteins_name_A / max(unique_proteins_name_A, unique_proteins_name_B),\n",
    "           sst_ratio_a,\n",
    "           avg_coverage_a]\n",
    "values_b = [unique_peptide_B / max(unique_peptide_A, unique_peptide_B),\n",
    "           unique_proteins_name_B / max(unique_proteins_name_A, unique_proteins_name_B),\n",
    "           sst_ratio_b,\n",
    "           avg_coverage_b]\n",
    "\n",
    "# Number of variables\n",
    "N = len(categories)\n",
    "\n",
    "# Create angles for each category\n",
    "angles = [n / float(N) * 2 * np.pi for n in range(N)]\n",
    "angles += angles[:1]  # Close the loop\n",
    "\n",
    "# Add values for both tools (close the loop)\n",
    "values_a += values_a[:1]\n",
    "values_b += values_b[:1]\n",
    "\n",
    "# Set up the plot\n",
    "ax = plt.subplot(111, polar=True)\n",
    "\n",
    "# Draw the lines and fill the areas\n",
    "ax.plot(angles, values_a, 'o-', linewidth=2, label='TOOL-A')\n",
    "ax.fill(angles, values_a, alpha=0.25)\n",
    "ax.plot(angles, values_b, 'o-', linewidth=2, label='TOOL-B')\n",
    "ax.fill(angles, values_b, alpha=0.25)\n",
    "\n",
    "# Set category labels\n",
    "plt.xticks(angles[:-1], categories)\n",
    "\n",
    "# Add legend and title\n",
    "plt.legend(loc='upper right', bbox_to_anchor=(0.1, 0.1))\n",
    "plt.title('Tool Performance Comparison', size=15)\n",
    "\n",
    "plt.tight_layout()\n",
    "plt.show()"
   ]
  },
  {
   "cell_type": "markdown",
   "id": "7e9b2ce1-ddb6-4736-8b9f-39a9cfc13d77",
   "metadata": {},
   "source": [
    "## 5. Conclusion\n",
    "\n",
    "Based on our analysis, we can determine which tool performs better according to the given criteria.\n",
    "\n",
    "Let's summarize our findings:\n",
    "\n",
    "1. **Unique Peptides**: **TOOL-A** found more unique peptides. Tool-A: 53158 vs Tool-B: 16395\n",
    "2. **Unique Proteins**: **TOOL-A** identified more unique proteins. Tool-A: 4984 vs Tool-B: 2497\n",
    "3. **Simplified-Semi-Tryptic Ratio**: **TOOL-A** had a higher ratio of Simplified-Semi-Tryptic peptides. Tool-A: 31.49% vs Tool-B: 22.12%\n",
    "4. **Protein Sequence Coverage**: **TOOL-A** achieved better protein sequence coverage. Tool-A: 22.05% vs Tool-B: 16.27%\n",
    "\n",
    "Overall, **TOOL-A** demonstrates better performance in 4 out of 4 criteria, making it the superior tool for this specific protein and peptide analysis task.\n",
    "\n",
    "The reasons for **TOOL-A**'s better performance could include:\n",
    "\n",
    "1. More effective algorithms for peptide identification\n",
    "2. Better handling of protein sequences\n",
    "3. Higher sensitivity in detecting peptides\n",
    "4. More accurate mapping of peptides to their source proteins\n",
    "\n",
    "This analysis provides valuable insights for researchers to choose the appropriate tool for their protein and peptide analysis needs."
   ]
  },
  {
   "cell_type": "code",
   "execution_count": null,
   "id": "9438e665-eb61-4062-84fa-ed264ec96383",
   "metadata": {},
   "outputs": [],
   "source": []
  }
 ],
 "metadata": {
  "kernelspec": {
   "display_name": "Python 3 (ipykernel)",
   "language": "python",
   "name": "python3"
  },
  "language_info": {
   "codemirror_mode": {
    "name": "ipython",
    "version": 3
   },
   "file_extension": ".py",
   "mimetype": "text/x-python",
   "name": "python",
   "nbconvert_exporter": "python",
   "pygments_lexer": "ipython3",
   "version": "3.12.3"
  }
 },
 "nbformat": 4,
 "nbformat_minor": 5
}
